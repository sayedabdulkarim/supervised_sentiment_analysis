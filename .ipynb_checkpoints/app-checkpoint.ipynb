{
 "cells": [
  {
   "cell_type": "code",
   "execution_count": 3,
   "id": "cb98dd44-b619-4d3f-a645-1613147f57c7",
   "metadata": {},
   "outputs": [
    {
     "name": "stdout",
     "output_type": "stream",
     "text": [
      "Installed kernelspec myenv in /Users/saykarim/Library/Jupyter/kernels/myenv\n"
     ]
    }
   ],
   "source": [
    "# !~/Desktop/ai-ml/U-tube/sentiment_analysis/myenv/bin/python -m ipykernel install --user --name=myenv --display-name \"Python (myenv)\""
   ]
  },
  {
   "cell_type": "code",
   "execution_count": 10,
   "id": "4ca39359-0b6e-47db-823c-b43e8806b637",
   "metadata": {},
   "outputs": [],
   "source": [
    "# pip install nltk scikit-learn wordcloud matplotlib numpy pandas"
   ]
  },
  {
   "cell_type": "code",
   "execution_count": 12,
   "id": "b66e8158-343f-4d27-8066-35b1e4599f27",
   "metadata": {},
   "outputs": [],
   "source": [
    "import pandas as pd\n",
    "import matplotlib.pyplot as plt\n",
    "import nltk\n",
    "from nltk.corpus import stopwords"
   ]
  },
  {
   "cell_type": "code",
   "execution_count": 13,
   "id": "904acde6-a75d-459c-b42e-650d1aa72bc2",
   "metadata": {},
   "outputs": [],
   "source": [
    "data = pd.read_csv('IMDB_Dataset.csv')"
   ]
  },
  {
   "cell_type": "code",
   "execution_count": 15,
   "id": "1459c61c-622a-46ef-9b2e-af134c261d22",
   "metadata": {},
   "outputs": [
    {
     "data": {
      "text/plain": [
       "sentiment\n",
       "negative    263\n",
       "positive    237\n",
       "Name: count, dtype: int64"
      ]
     },
     "execution_count": 15,
     "metadata": {},
     "output_type": "execute_result"
    }
   ],
   "source": [
    "# data\n",
    "data['sentiment'].value_counts()"
   ]
  },
  {
   "cell_type": "code",
   "execution_count": 16,
   "id": "38c091e5-3a44-4747-88ca-edf4a67549fd",
   "metadata": {},
   "outputs": [],
   "source": [
    "data.dropna(inplace=True)"
   ]
  },
  {
   "cell_type": "code",
   "execution_count": null,
   "id": "62230b71-cbbf-45f0-8542-bfb4f8322e38",
   "metadata": {},
   "outputs": [],
   "source": []
  }
 ],
 "metadata": {
  "kernelspec": {
   "display_name": "Python (myenv)",
   "language": "python",
   "name": "myenv"
  },
  "language_info": {
   "codemirror_mode": {
    "name": "ipython",
    "version": 3
   },
   "file_extension": ".py",
   "mimetype": "text/x-python",
   "name": "python",
   "nbconvert_exporter": "python",
   "pygments_lexer": "ipython3",
   "version": "3.13.0"
  }
 },
 "nbformat": 4,
 "nbformat_minor": 5
}
